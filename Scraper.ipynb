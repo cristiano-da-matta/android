{
  "nbformat": 4,
  "nbformat_minor": 0,
  "metadata": {
    "colab": {
      "name": "Scraper.ipynb",
      "provenance": [],
      "include_colab_link": true
    },
    "kernelspec": {
      "name": "python3",
      "display_name": "Python 3"
    },
    "language_info": {
      "name": "python"
    }
  },
  "cells": [
    {
      "cell_type": "markdown",
      "metadata": {
        "id": "view-in-github",
        "colab_type": "text"
      },
      "source": [
        "<a href=\"https://colab.research.google.com/github/cristiano-da-matta/android/blob/master/Scraper.ipynb\" target=\"_parent\"><img src=\"https://colab.research.google.com/assets/colab-badge.svg\" alt=\"Open In Colab\"/></a>"
      ]
    },
    {
      "cell_type": "code",
      "metadata": {
        "id": "z0wrtiVvKSYl",
        "colab": {
          "base_uri": "https://localhost:8080/"
        },
        "outputId": "530da3e7-72a7-40e0-e80b-e0f7d668c5e6"
      },
      "source": [
        "!pip install feedparser"
      ],
      "execution_count": null,
      "outputs": [
        {
          "output_type": "stream",
          "text": [
            "Collecting feedparser\n",
            "\u001b[?25l  Downloading https://files.pythonhosted.org/packages/1c/21/faf1bac028662cc8adb2b5ef7a6f3999a765baa2835331df365289b0ca56/feedparser-6.0.2-py3-none-any.whl (80kB)\n",
            "\r\u001b[K     |████                            | 10kB 14.1MB/s eta 0:00:01\r\u001b[K     |████████                        | 20kB 12.6MB/s eta 0:00:01\r\u001b[K     |████████████▏                   | 30kB 8.9MB/s eta 0:00:01\r\u001b[K     |████████████████▏               | 40kB 7.8MB/s eta 0:00:01\r\u001b[K     |████████████████████▎           | 51kB 4.4MB/s eta 0:00:01\r\u001b[K     |████████████████████████▎       | 61kB 5.0MB/s eta 0:00:01\r\u001b[K     |████████████████████████████▍   | 71kB 4.7MB/s eta 0:00:01\r\u001b[K     |████████████████████████████████| 81kB 3.6MB/s \n",
            "\u001b[?25hCollecting sgmllib3k\n",
            "  Downloading https://files.pythonhosted.org/packages/9e/bd/3704a8c3e0942d711c1299ebf7b9091930adae6675d7c8f476a7ce48653c/sgmllib3k-1.0.0.tar.gz\n",
            "Building wheels for collected packages: sgmllib3k\n",
            "  Building wheel for sgmllib3k (setup.py) ... \u001b[?25l\u001b[?25hdone\n",
            "  Created wheel for sgmllib3k: filename=sgmllib3k-1.0.0-cp37-none-any.whl size=6067 sha256=e6047a5fe1dd64a0dbae8ed1446e0a5e8c65f154ae59dc1a91d00f0d919c83f6\n",
            "  Stored in directory: /root/.cache/pip/wheels/f1/80/5a/444ba08a550cdd241bd9baf8bae44be750efe370adb944506a\n",
            "Successfully built sgmllib3k\n",
            "Installing collected packages: sgmllib3k, feedparser\n",
            "Successfully installed feedparser-6.0.2 sgmllib3k-1.0.0\n"
          ],
          "name": "stdout"
        }
      ]
    },
    {
      "cell_type": "code",
      "metadata": {
        "id": "iYTJJ3-hKwXB"
      },
      "source": [
        "import feedparser\n",
        "from bs4 import BeautifulSoup\n",
        "\n",
        "def html_clear(text):\n",
        "    if text == '':\n",
        "        return ''\n",
        "    return BeautifulSoup(text, 'html5lib').get_text()\n",
        "\n",
        "def xml_scraper(global_url):\n",
        "    response = feedparser.parse(global_url)\n",
        "    article_list = []\n",
        "\n",
        "    for news in response['entries']:\n",
        "        description = html_clear(news['summary'])\n",
        "        article_list.append({\n",
        "            'title': news['title'],\n",
        "            'pub_date': news['published_parsed'],\n",
        "            'link': news['link'],\n",
        "            'description': description\n",
        "            })\n",
        "\n",
        "    return article_list"
      ],
      "execution_count": null,
      "outputs": []
    },
    {
      "cell_type": "code",
      "metadata": {
        "id": "EqERaaA5K9gm"
      },
      "source": [
        "global_url = \"http://delhincrnews.in/feed/\""
      ],
      "execution_count": null,
      "outputs": []
    },
    {
      "cell_type": "code",
      "metadata": {
        "id": "lhg1v4LyLIwC",
        "colab": {
          "base_uri": "https://localhost:8080/"
        },
        "outputId": "a87a0d2f-77ca-482c-9b86-4b7d8498a1e4"
      },
      "source": [
        "xml_scraper(global_url)"
      ],
      "execution_count": null,
      "outputs": [
        {
          "output_type": "execute_result",
          "data": {
            "text/plain": [
              "[{'description': 'India’s total Active Caseload has dipped to\\xa037,04,099 today. It now\\xa0comprises\\xa015.87%\\xa0of\\xa0the country’s total Positive Cases. A net decline of 11,122 cases is recorded in the active caseload in the last 24 hours. This is the second consecutive day of decline in the active cases. 13\\xa0States cumulatively account for\\xa082.51%\\xa0of India’s\\xa0total Active Cases. Source: PIB',\n",
              "  'link': 'http://delhincrnews.in/2021/05/12/indias-active-caseload-declines-for-the-second-consecutive-day/',\n",
              "  'pub_date': time.struct_time(tm_year=2021, tm_mon=5, tm_mday=12, tm_hour=14, tm_min=39, tm_sec=42, tm_wday=2, tm_yday=132, tm_isdst=0),\n",
              "  'title': 'India’s active caseload declines for the second consecutive day'},\n",
              " {'description': 'Steel fraternity stands united in the service of nation in this time of crisis. A total of 4686 MT of life-saving Liquid Medical Oxygen (LMO)was supplied by steel plants on 10th\\xa0May. It included 1193 MT by SAIL, 180 MT by RINL, 1425 MT by TATA group, 1300 by JSW, and rest by other steel companies […]',\n",
              "  'link': 'http://delhincrnews.in/2021/05/12/4686-mt-of-life-saving-liquid-medical-oxygen-supplied-by-steel-plants/',\n",
              "  'pub_date': time.struct_time(tm_year=2021, tm_mon=5, tm_mday=12, tm_hour=14, tm_min=37, tm_sec=4, tm_wday=2, tm_yday=132, tm_isdst=0),\n",
              "  'title': '4686 MT of life-saving liquid medical oxygen supplied by steel plants'},\n",
              " {'description': 'Oil and Gas PSUs under the Ministry of Petroleum and Natural Gas, Government of India, acting as responsible corporate citizens, are extending their helping hand to support the nation in its efforts to combat the second wave of the COVID 19 pandemic. In this regard, they are specifically working to find\\xa0transportation solutions for Liquid Oxygen. […]',\n",
              "  'link': 'http://delhincrnews.in/2021/05/11/oil-and-gas-psus-helping-in-providing-transportation-solutions-for-liquid-oxygen/',\n",
              "  'pub_date': time.struct_time(tm_year=2021, tm_mon=5, tm_mday=11, tm_hour=14, tm_min=28, tm_sec=46, tm_wday=1, tm_yday=131, tm_isdst=0),\n",
              "  'title': 'Oil and Gas PSUs helping in providing transportation solutions for liquid oxygen'},\n",
              " {'description': '6,738 Oxygen Concentrators, 3,856 Oxygen Cylinders, 16 Oxygen Generation Plants, 4,668 ventilators/ Bi PAP/ C PAP and more than 3L Remdesivir vials received as part of global aid to India have been delivered/ dispatched to States and UTs to augment and supplement their infrastructure, so far.\\xa0The Union Government\\xa0is ensuring that the global aid is being […]',\n",
              "  'link': 'http://delhincrnews.in/2021/05/10/global-aid-received-and-expedited-to-states-uts-in-their-fight-against-covid-19/',\n",
              "  'pub_date': time.struct_time(tm_year=2021, tm_mon=5, tm_mday=10, tm_hour=14, tm_min=47, tm_sec=7, tm_wday=0, tm_yday=130, tm_isdst=0),\n",
              "  'title': 'Global Aid received and expedited to states/UTs in their fight against COVID-19'},\n",
              " {'description': 'The Ministry of Ayush has started free distribution of AYUSH 64 at many locations in Delhi since last Saturday. From Monday onwards, many more centres will become operational. Those COVID-19 patients who are in home isolation or are staying at some government/NGO arranged isolation centres can benefit from this initiative of the Ministry of Ayush. […]',\n",
              "  'link': 'http://delhincrnews.in/2021/05/09/free-distribution-of-ayush-64-at-7-delhi-locations-from-monday/',\n",
              "  'pub_date': time.struct_time(tm_year=2021, tm_mon=5, tm_mday=9, tm_hour=14, tm_min=24, tm_sec=40, tm_wday=6, tm_yday=129, tm_isdst=0),\n",
              "  'title': 'Free Distribution of AYUSH-64 at 7 Delhi locations from Monday'},\n",
              " {'description': 'Indian Railways is continuing its journey of bringing relief by delivering\\xa0Liquid\\xa0Medical\\xa0Oxygen(LMO)\\xa0to various states across the country. So far, Indian Railways has delivered nearly 3400 MT of LMO in more than 220 tankers to various states across the country.\\xa0 54\\xa0Oxygen Expresses have already completed their journey so far.\\xa0\\xa0 It is Indian Railways endeavour to deliver as […]',\n",
              "  'link': 'http://delhincrnews.in/2021/05/08/nearly-3400-mt-oxygen-delivered-by-oxygen-expresses-to-maharashtra-mp-haryana-delhi-rajasthan-telangana-up/',\n",
              "  'pub_date': time.struct_time(tm_year=2021, tm_mon=5, tm_mday=8, tm_hour=15, tm_min=22, tm_sec=43, tm_wday=5, tm_yday=128, tm_isdst=0),\n",
              "  'title': 'Nearly 3400 MT Oxygen delivered by Oxygen Expresses to Maharashtra, MP, Haryana, Delhi, Rajasthan, Telangana & UP'},\n",
              " {'description': 'An anti-COVID-19 therapeutic application of the drug 2-deoxy-D-glucose (2-DG) has been developed by Institute of Nuclear Medicine and Allied Sciences (INMAS), a lab of Defence Research and Development Organisation (DRDO), in collaboration with Dr Reddy’s Laboratories (DRL), Hyderabad. Clinical trial results have shown that this molecule helps in faster recovery of hospitalised patients and reduces […]',\n",
              "  'link': 'http://delhincrnews.in/2021/05/08/dcgi-approves-anti-covid-drug-developed-by-drdo-for-emergency-use/',\n",
              "  'pub_date': time.struct_time(tm_year=2021, tm_mon=5, tm_mday=8, tm_hour=15, tm_min=14, tm_sec=49, tm_wday=5, tm_yday=128, tm_isdst=0),\n",
              "  'title': 'DCGI approves anti-COVID drug developed by DRDO for emergency use'},\n",
              " {'description': 'Dr. Harsh Vardhan, Union Minister of Health and Family Welfare today reviewed in person the\\xa0preparedness of Dr Ram Manohar Lohia Hospital, New Delhi for clinical management of the severe COVID19 patients. He has been personally reviewing the management of COVID19 in the Central Hospitals that serve Delhi and had also visited the Lady Hardinge Medical […]',\n",
              "  'link': 'http://delhincrnews.in/2021/05/07/union-health-minister-reviews-covid19-management-preparedness-at-rml-hospital/',\n",
              "  'pub_date': time.struct_time(tm_year=2021, tm_mon=5, tm_mday=7, tm_hour=14, tm_min=56, tm_sec=14, tm_wday=4, tm_yday=127, tm_isdst=0),\n",
              "  'title': 'Union Health Minister reviews COVID19 management preparedness at RML Hospital'},\n",
              " {'description': 'There has been an unprecedented surge in the number of COVID19 cases in the country since the past few weeks. The health infrastructure of several States and UTs has been overwhelmed by the very high number of daily cases and increased mortality. Following the spirit of Vasudhaiva Kutumbakam, the global community has extended a helping […]',\n",
              "  'link': 'http://delhincrnews.in/2021/05/06/covid-over-3-29-lakh-recoveries-in-the-last-24-hours/',\n",
              "  'pub_date': time.struct_time(tm_year=2021, tm_mon=5, tm_mday=6, tm_hour=15, tm_min=7, tm_sec=51, tm_wday=3, tm_yday=126, tm_isdst=0),\n",
              "  'title': 'Covid: Over 3.29 lakh recoveries in the last 24 hours'},\n",
              " {'description': 'Union Minister of State (Independent Charge) Development of North Eastern Region (DoNER), MoS PMO, Personnel, Public Grievances, Pensions, Atomic Energy and Space, Dr Jitendra Singh today said that Department of Space has gone beyond its call to provide COVID related support mainly liquid oxygen to States of Tamil Nadu, Kerala, Andhra Pradesh and Chandigarh. In […]',\n",
              "  'link': 'http://delhincrnews.in/2021/05/06/department-of-space-to-augment-covid-infra-in-country/',\n",
              "  'pub_date': time.struct_time(tm_year=2021, tm_mon=5, tm_mday=6, tm_hour=15, tm_min=4, tm_sec=0, tm_wday=3, tm_yday=126, tm_isdst=0),\n",
              "  'title': 'Department of Space to augment COVID infra in  country'},\n",
              " {'description': 'The Cabinet Committee on Economic Affairs, chaired by Prime Minister, Narendra Modi, has given its in-principle approval for strategic disinvestment along with transfer of management control in IDBI Bank Ltd. The extent of respective shareholding to be divested by GoI and LIC shall be decided at the time of structuring of transaction in consultation with […]',\n",
              "  'link': 'http://delhincrnews.in/2021/05/05/cabinet-approves-strategic-disinvestment-and-transfer-of-management-control-in-idbi-bank-limited/',\n",
              "  'pub_date': time.struct_time(tm_year=2021, tm_mon=5, tm_mday=5, tm_hour=14, tm_min=46, tm_sec=47, tm_wday=2, tm_yday=125, tm_isdst=0),\n",
              "  'title': 'Cabinet approves strategic disinvestment and transfer of management control in IDBI Bank Limited'},\n",
              " {'description': 'In order to tackle the surge in Covid-19 cases & subsequent requirement of oxygen, PM-Cares has allocated funds for the installation of 500 Medical Oxygen Plants across the country. These plants are planned to be set up within three months. Defence Research and Development Organisation (DRDO), through its industries, is setting-up five Medical Oxygen Plants […]',\n",
              "  'link': 'http://delhincrnews.in/2021/05/04/drdo-to-install-five-medical-oxygen-plants-in-delhi-equipment-arrives-at-aiims-rml/',\n",
              "  'pub_date': time.struct_time(tm_year=2021, tm_mon=5, tm_mday=4, tm_hour=14, tm_min=22, tm_sec=7, tm_wday=1, tm_yday=124, tm_isdst=0),\n",
              "  'title': 'DRDO to install five medical oxygen plants in Delhi & Haryana; equipment arrives at AIIMS & RML'},\n",
              " {'description': 'The Prime Minister reviewed the growing need of adequate human resources for responding to the COVID-19 pandemic in the country today. Many important decisions were taken which will significantly boost availability of medical personnel in Covid duty. A decision was taken to postpone NEET-PG for at least 4 months & the exam will not be […]',\n",
              "  'link': 'http://delhincrnews.in/2021/05/03/pm-authorises-keys-decisions-to-boost-availability-of-medical-personnel-to-fight-covid-19-neet-pg-exam-to-be-postponed-for-at-least-4-months/',\n",
              "  'pub_date': time.struct_time(tm_year=2021, tm_mon=5, tm_mday=3, tm_hour=11, tm_min=15, tm_sec=25, tm_wday=0, tm_yday=123, tm_isdst=0),\n",
              "  'title': 'PM authorises keys decisions to boost availability of medical personnel to fight COVID-19; NEET-PG Exam to be postponed for at least 4 months'},\n",
              " {'description': 'Rajiv Gauba, Cabinet Secretary, Government of India, today reviewed various aspects of COVID-19 preparedness in Delhi. \\xa0Officials of the Government of NCT of Delhi (GNCTD) made a presentation in the meeting, covering issues of recent trends in active cases, deaths and positivity rate; availability and expansion plans of medical infrastructure; status of oxygen availability; home […]',\n",
              "  'link': 'http://delhincrnews.in/2021/05/02/cabinet-secretary-reviews-state-of-covid-19-preparedness-in-delhi/',\n",
              "  'pub_date': time.struct_time(tm_year=2021, tm_mon=5, tm_mday=2, tm_hour=15, tm_min=10, tm_sec=58, tm_wday=6, tm_yday=122, tm_isdst=0),\n",
              "  'title': 'Cabinet Secretary reviews state of COVID-19 preparedness in Delhi'},\n",
              " {'description': 'As a special dispensation, the Department of Expenditure, Ministry of Finance at the recommendation of Ministry of Home Affairs has released in advance of the normal schedule the 1st\\xa0instalment of the Central Share of the State Disaster Response Fund (SDRF) for the year 2021-22 to all the States.\\xa0\\xa0An amount of Rs. 8873.6 crore has been […]',\n",
              "  'link': 'http://delhincrnews.in/2021/05/01/1st-instalment-of-rs-8873-6-cr-for-sdrf-released-in-advance-upto-50-of-amount-can-be-used-for-covid-containment-measures/',\n",
              "  'pub_date': time.struct_time(tm_year=2021, tm_mon=5, tm_mday=1, tm_hour=14, tm_min=37, tm_sec=31, tm_wday=5, tm_yday=121, tm_isdst=0),\n",
              "  'title': '1st instalment of Rs. 8873.6 cr for SDRF released in advance; upto 50% of amount can be used for Covid containment measures'},\n",
              " {'description': 'The Government has included import of oxygen concentrators for personal use, through post, courier or e-commerce portals, in the list of exempted categories, where Customs clearance is sought as ”gifts”. This exemption is valid till 31 July 2021. A notification issued by Directorate General of Foreign Trade, Ministry of Commerce and Industry on 30th\\xa0April, 2021 […]',\n",
              "  'link': 'http://delhincrnews.in/2021/05/01/import-of-oxygen-concentrators-for-personal-use-included-in-exempted-category-list/',\n",
              "  'pub_date': time.struct_time(tm_year=2021, tm_mon=5, tm_mday=1, tm_hour=14, tm_min=30, tm_sec=42, tm_wday=5, tm_yday=121, tm_isdst=0),\n",
              "  'title': 'Import of Oxygen Concentrators for personal use included in exempted category list'},\n",
              " {'description': 'Government of India is leading the COVID-19 response and management in the country in close coordination and collaboration with the State/UT governments. Several strategic and calibrated measures have been taken for the prevention, containment and management of COVID-19. The Ministry of Health and Family Welfare today issued guidelines in suppression to the earlier guidelines issued […]',\n",
              "  'link': 'http://delhincrnews.in/2021/04/30/govt-issues-revised-guidelines-for-home-isolation-of-mild-and-asymptomatic-covid-19-cases/',\n",
              "  'pub_date': time.struct_time(tm_year=2021, tm_mon=4, tm_mday=30, tm_hour=14, tm_min=42, tm_sec=31, tm_wday=4, tm_yday=120, tm_isdst=0),\n",
              "  'title': 'Govt. issues revised guidelines for home isolation of mild and asymptomatic COVID-19 cases'},\n",
              " {'description': 'Vaccination is a crucial pillar of the five point strategy of Government of India to fight the pandemic including Test, Track, Treat and COVID Appropriate Behaviour. Government of India has been leading the fight against the COVID19 pandemic. Several proactive steps have been taken the Union Government for containment and management of the COVID19 pandemic. […]',\n",
              "  'link': 'http://delhincrnews.in/2021/04/30/govt-has-so-far-provided-more-16-33-cr-vaccine-doses-to-states-uts-free-of-cost/',\n",
              "  'pub_date': time.struct_time(tm_year=2021, tm_mon=4, tm_mday=30, tm_hour=14, tm_min=39, tm_sec=41, tm_wday=4, tm_yday=120, tm_isdst=0),\n",
              "  'title': 'Govt. has so far provided more 16.33 cr vaccine doses to states/UTs free of cost'},\n",
              " {'description': 'The Indian Institute of Technology (IIT) Bombay has come up with a creative and ingenious solution to addressing the shortage of medical oxygen for the treatment of COVID-19 patients in the country. The pilot project which has been tested successfully relies on a simple technological hack: conversion of PSA (Pressure Swing Adsorption) Nitrogen Unit to […]',\n",
              "  'link': 'http://delhincrnews.in/2021/04/29/it-bombay-shows-how-to-solve-oxygen-shortage-by-converting-nitrogen-generator-into-oxygen-generator/',\n",
              "  'pub_date': time.struct_time(tm_year=2021, tm_mon=4, tm_mday=29, tm_hour=14, tm_min=25, tm_sec=26, tm_wday=3, tm_yday=119, tm_isdst=0),\n",
              "  'title': 'IT Bombay shows how to solve oxygen shortage by converting nitrogen generator into oxygen generator'},\n",
              " {'description': 'Air Chief Marshal RKS Bhadauria called on Prime Minister Narendra Modi today. He briefed the PM on the efforts being undertaken by IAF to help in the Cover-19 related situation. Air Chief Marshal RKS Bhadauria informed the Prime Minister that the IAF has ordered 24×7 readiness of the entire heavy lift fleet and substantial numbers […]',\n",
              "  'link': 'http://delhincrnews.in/2021/04/28/pm-reviews-covid-related-operations-by-indian-air-force/',\n",
              "  'pub_date': time.struct_time(tm_year=2021, tm_mon=4, tm_mday=28, tm_hour=14, tm_min=59, tm_sec=35, tm_wday=2, tm_yday=118, tm_isdst=0),\n",
              "  'title': 'PM reviews Covid related operations by Indian Air Force'},\n",
              " {'description': 'India’s export of Organic food products rose by 51% in terms of value (USD Million), to USD 1040 million (Rs 7078 crores) during financial year 2020-21 compared to the previous fiscal (2019-20). In terms of quantity, the exports of organic food products grew by 39% to 888,179 metric tonne (MT) during FY 2020-21 compared to […]',\n",
              "  'link': 'http://delhincrnews.in/2021/04/27/indias-organic-food-products-exports-rise-by-more-than-50-per-cent-in-2020-21-despite-covid-challenges/',\n",
              "  'pub_date': time.struct_time(tm_year=2021, tm_mon=4, tm_mday=27, tm_hour=15, tm_min=46, tm_sec=6, tm_wday=1, tm_yday=117, tm_isdst=0),\n",
              "  'title': 'India’s organic food products exports rise by more than 50 per cent in 2020-21 despite Covid challenges'},\n",
              " {'description': 'Steel Plants in Public & Private Sector \\xa0supplied 3131.84 Metric Tonnes of Liquid Medical oxygen (LMO) to various states on the 25th\\xa0April 2021,ascompared to 2894 tonnes dispatched on the previous day. A week earlier, on an average 1500/1700 Metric tonnes / day was being dispatched. The production on 25th\\xa0April was 3468.6 MT. Steel plants have […]',\n",
              "  'link': 'http://delhincrnews.in/2021/04/26/3131metric-tonnes-of-liquid-medical-oxygen-supplied-by-steel-plants/',\n",
              "  'pub_date': time.struct_time(tm_year=2021, tm_mon=4, tm_mday=26, tm_hour=12, tm_min=48, tm_sec=43, tm_wday=0, tm_yday=116, tm_isdst=0),\n",
              "  'title': '3131metric tonnes of liquid medical oxygen supplied by steel plants'},\n",
              " {'description': 'The cumulative number of COVID19 vaccine doses administered in the country has crossed\\xa014.19 Cr\\xa0today as part of the world’s largest vaccination drive, which completed 100 days yesterday. Cumulatively,\\xa014,19,11,223\\xa0vaccine doses have been administered through 20,44,954 sessions, as per the provisional report till 7 am today. These include\\xa092,98,092\\xa0HCWs who have taken the 1st dose and\\xa060,08,236\\xa0HCWs who have […]',\n",
              "  'link': 'http://delhincrnews.in/2021/04/26/indias-cumulative-vaccination-coverage-exceeds-14-19-crore-as-the-largest-vaccination-drive-completes-100-days/',\n",
              "  'pub_date': time.struct_time(tm_year=2021, tm_mon=4, tm_mday=26, tm_hour=12, tm_min=45, tm_sec=47, tm_wday=0, tm_yday=116, tm_isdst=0),\n",
              "  'title': 'India’s Cumulative Vaccination Coverage exceeds 14.19 Crore as the Largest Vaccination Drive completes 100 days'},\n",
              " {'description': 'In line with Prime Minister’s direction of boosting availability of oxygen to hospitals, the PM CARES Fund has given in-principle approval for allocation of funds for installation of 551 dedicated Pressure Swing Adsorption (PSA) Medical Oxygen Generation Plants inside public health facilities in the country. PM has directed that these plants should be made functional […]',\n",
              "  'link': 'http://delhincrnews.in/2021/04/25/551-psa-oxygen-generation-plants-to-be-set-up-in-public-health-facilities-across-the-country-through-pm-cares/',\n",
              "  'pub_date': time.struct_time(tm_year=2021, tm_mon=4, tm_mday=25, tm_hour=11, tm_min=44, tm_sec=52, tm_wday=6, tm_yday=115, tm_isdst=0),\n",
              "  'title': '551 PSA Oxygen Generation Plants to be set up in public health facilities across the country through PM CARES'},\n",
              " {'description': 'The Prime Minister chaired a meeting to review steps taken to boost oxygen availability in the country. The PM emphasized that there was an immediate need to augment the supply of medical grade oxygen as well as equipment required for patient care both at home and in hospitals. PM stressed that all ministries and departments […]',\n",
              "  'link': 'http://delhincrnews.in/2021/04/24/pm-chairs-a-high-level-meeting-on-measures-to-increase-supply-of-oxygen-basic-customs-duty-health-cess-to-be-waived-off/',\n",
              "  'pub_date': time.struct_time(tm_year=2021, tm_mon=4, tm_mday=24, tm_hour=14, tm_min=46, tm_sec=18, tm_wday=5, tm_yday=114, tm_isdst=0),\n",
              "  'title': 'PM chairs a high-level meeting on measures to increase supply of oxygen & oxygen related equipment; basic customs duty & health cess to be waived off'},\n",
              " {'description': 'The Prime Minister Narendra Modi launched the distribution of e-property cards under the SWAMITVA scheme today on National Panchayati Raj Day through video conferencing. 4.09 lakh property owners were given their e-property cards on this occasion, which also marked the rolling out of the SVAMITVA scheme for implementation across the country. Union Minister, Narendra Singh […]',\n",
              "  'link': 'http://delhincrnews.in/2021/04/24/pm-launches-distribution-of-e-property-cards-under-swamitva-scheme-4-09-lakh-persons-given-e-property-cards/',\n",
              "  'pub_date': time.struct_time(tm_year=2021, tm_mon=4, tm_mday=24, tm_hour=14, tm_min=42, tm_sec=22, tm_wday=5, tm_yday=114, tm_isdst=0),\n",
              "  'title': 'PM launches distribution of e-property cards under SWAMITVA scheme; 4.09 lakh persons given e-property cards'},\n",
              " {'description': 'Indian Air Force (IAF) has swung into action by carrying out sorties from various parts of the country to airlift oxygen containers, cylinders, essential medicines, equipment required for setting up and sustaining COVID hospitals and facilities in the fight against fresh surge in COVID-19 cases. The IAF Transport aircraft and helicopters have been pressed into […]',\n",
              "  'link': 'http://delhincrnews.in/2021/04/23/iaf-airlifting-oxygen-containers-essential-medicines-other-medical-equipment-in-fight-against-fresh-surge-in-covid-19-cases/',\n",
              "  'pub_date': time.struct_time(tm_year=2021, tm_mon=4, tm_mday=23, tm_hour=12, tm_min=52, tm_sec=0, tm_wday=4, tm_yday=113, tm_isdst=0),\n",
              "  'title': 'IAF airlifting oxygen containers, essential medicines & other medical equipment in fight against fresh surge in COVID-19 cases'},\n",
              " {'description': 'Indian Railway is running Oxygen Express in response to its fight against Covid-19. First Oxygen Express with Liquid Medical Oxygen(LMO) tankers is going to start its journey for Mumbai from Visakhapatnam tonight. Tankers filled with LMO at Visakhapatnam are being transported through Ro-Ro service of Indian Railways. Another Oxygen Express started its journey from Lucknow […]',\n",
              "  'link': 'http://delhincrnews.in/2021/04/22/oxygen-expresses-getting-prepared-to-leave-with-liquid-medical-oxygen-from-visakhapatnam-bokaro-today-for-maharashtra-up/',\n",
              "  'pub_date': time.struct_time(tm_year=2021, tm_mon=4, tm_mday=22, tm_hour=12, tm_min=34, tm_sec=47, tm_wday=3, tm_yday=112, tm_isdst=0),\n",
              "  'title': 'Oxygen Expresses getting prepared to leave with Liquid Medical Oxygen from Visakhapatnam & Bokaro today for Maharashtra & UP'},\n",
              " {'description': 'Union Minister for Chemical and Fertilizers, D. V. Sadanand Gowda informed\\xa0 via Twitter that considering the immediate requirement on the recommendation of the Department of Pharmaceuticals, the Department of Revenue has waived customs duty on Remdesivir and its API/KSM. This step will further augment domestic availability of Remdesivir injection, he added. Source: PIB',\n",
              "  'link': 'http://delhincrnews.in/2021/04/21/govt-waives-off-customs-duty-on-remdesivir/',\n",
              "  'pub_date': time.struct_time(tm_year=2021, tm_mon=4, tm_mday=21, tm_hour=12, tm_min=59, tm_sec=35, tm_wday=2, tm_yday=111, tm_isdst=0),\n",
              "  'title': 'Govt. waives off customs duty on Remdesivir'},\n",
              " {'description': 'The cumulative number of COVID19 vaccine doses administered in the country has crossed\\xa012.71 Cr\\xa0today as part of the world’s largest vaccination drive. Cumulatively,\\xa012,71,29,113\\xa0vaccine doses (10,96,59,181 1st\\xa0doses and 1,74,69,932 2nd\\xa0doses) have been administered through 18,83,241 sessions, as per the provisional report till 7 am today. These include\\xa091,70,717\\xa0HCWs who have taken the 1st dose and\\xa057,67,657\\xa0HCWs who have […]',\n",
              "  'link': 'http://delhincrnews.in/2021/04/20/indias-cumulative-vaccination-coverage-exceeds-12-71-cr/',\n",
              "  'pub_date': time.struct_time(tm_year=2021, tm_mon=4, tm_mday=20, tm_hour=12, tm_min=46, tm_sec=23, tm_wday=1, tm_yday=110, tm_isdst=0),\n",
              "  'title': 'India’s cumulative vaccination coverage exceeds 12.71 cr'},\n",
              " {'description': 'The Ministry of Housing and Urban Affairs (MoHUA), Government of India and Deutsche Gesellschaft für Internationale Zusammenarbeit (GIZ) GmbH India on behalf of the German Federal Ministry of Environment, Nature Conservation and Nuclear Safety signed an agreement on Technical Cooperation titled ‘Cities Combating Plastic Entering the Marine Environment’ at a virtual ceremony in New Delhi […]',\n",
              "  'link': 'http://delhincrnews.in/2021/04/19/india-and-germany-sign-agreement-on-cities-combating-plastic-entering-the-marine-environment/',\n",
              "  'pub_date': time.struct_time(tm_year=2021, tm_mon=4, tm_mday=19, tm_hour=15, tm_min=3, tm_sec=47, tm_wday=0, tm_yday=109, tm_isdst=0),\n",
              "  'title': 'India and Germany sign agreement on ‘Cities combating plastic entering the marine environment’'},\n",
              " {'description': 'Defence Research and Development Organisation (DRDO) has developed SpO2 (Blood Oxygen Saturation) supplemental Oxygen Delivery System for soldiers posted at extreme high-altitude areas. Developed by Defence Bio-Engineering & Electro Medical Laboratory (DEBEL), Bengaluru of DRDO, the system delivers supplemental oxygen based on the SpO2 levels and prevents the person from sinking in to a state […]',\n",
              "  'link': 'http://delhincrnews.in/2021/04/19/drdo-develops-spo2-based-supplemental-oxygen-delivery-system-a-boon-in-current-covid-19-pandemic/',\n",
              "  'pub_date': time.struct_time(tm_year=2021, tm_mon=4, tm_mday=19, tm_hour=15, tm_min=1, tm_sec=37, tm_wday=0, tm_yday=109, tm_isdst=0),\n",
              "  'title': 'DRDO develops SpO2 based Supplemental Oxygen Delivery System: A boon in current COVID-19 pandemic'},\n",
              " {'description': 'Adopting a proactive and sensitive approach to address the needs of the Indian Industry, the Union Ministry of Health & Family Welfare has taken a significant decision for ensuring continued access of eight regulated medical devices today. The Ministry had earlier notified the following medical items to be regulated under the Drugs and Cosmetics Act […]',\n",
              "  'link': 'http://delhincrnews.in/2021/04/18/new-regulatory-regime-for-8-medical-items-under-drugs-and-cosmetics-act/',\n",
              "  'pub_date': time.struct_time(tm_year=2021, tm_mon=4, tm_mday=18, tm_hour=14, tm_min=59, tm_sec=41, tm_wday=6, tm_yday=108, tm_isdst=0),\n",
              "  'title': 'New Regulatory Regime for 8 Medical Items under Drugs and Cosmetics Act'},\n",
              " {'description': 'Minister of Railways, Commerce & Industry, Consumer Affairs, and Food & Public Distribution, Piyush Goyal today said that\\xa0Government of India, with all stakeholders, is ensuring maximum Oxygen production in India. In a Tweet, he said that we are currently producing 110% of Oxygen generating capacity and diverting all available Oxygen from industrial use to medical […]',\n",
              "  'link': 'http://delhincrnews.in/2021/04/17/piyush-goyal-says-maharashtra-has-so-far-received-the-highest-quantity-of-oxygen-in-india/',\n",
              "  'pub_date': time.struct_time(tm_year=2021, tm_mon=4, tm_mday=17, tm_hour=14, tm_min=49, tm_sec=46, tm_wday=5, tm_yday=107, tm_isdst=0),\n",
              "  'title': 'Piyush Goyal says Maharashtra has so far received the highest quantity of Oxygen in India'},\n",
              " {'description': 'PM Narendra Modi took a comprehensive review to ensure adequate medical grade oxygen supply in the country. Inputs from ministries like Health, DPIIT, Steel, Road Transport, etc were also shared with the PM. PM stressed that it is important to ensure synergy across ministries & state governments. PM Modi also took a detailed review of […]',\n",
              "  'link': 'http://delhincrnews.in/2021/04/16/pm-reviews-status-of-oxygen-availability-to-ensure-adequate-supply/',\n",
              "  'pub_date': time.struct_time(tm_year=2021, tm_mon=4, tm_mday=16, tm_hour=15, tm_min=4, tm_sec=40, tm_wday=4, tm_yday=106, tm_isdst=0),\n",
              "  'title': 'PM reviews status of oxygen availability to ensure adequate supply'},\n",
              " {'description': 'Union Minister of Education, Ramesh Pokhriyal ‘Nishank’ virtually\\xa0launched “World 1st affordable and long-lasting hygiene product DuroKea Series”, developed by IIT Hyderabad researchers. Researcher from Indian Institute of Technology Hyderabad led\\xa0Dr. Jyotsnendu Giri, Associate Professor in Biomedical Engineering and founder EaffoCare Innovation Pvt. Ltd incubating at iTIC, IIT Hyderabad has developed innovative\\xa0DuroKea\\xa0long-lasting technologies to combat COVID-19 […]',\n",
              "  'link': 'http://delhincrnews.in/2021/04/16/union-minister-launches-world-1st-affordable-long-lasting-hygiene-product-durokea-series-developed-by-iit-hyderabad/',\n",
              "  'pub_date': time.struct_time(tm_year=2021, tm_mon=4, tm_mday=16, tm_hour=15, tm_min=1, tm_sec=40, tm_wday=4, tm_yday=106, tm_isdst=0),\n",
              "  'title': 'Union Minister launches “World 1st affordable & long-lasting hygiene product DuroKea Series” developed by IIT Hyderabad'},\n",
              " {'description': 'In a radical reform measure, the Union Government on 13th April 2021 had approved a significant streamlining and fast tracking of regulatory system for COVID-19 vaccines approved for restricted use by US FDA, EMA, UK MHRA, PMDA Japan or which are listed in WHO Emergency Use Listing (EUL). This decision will facilitate quicker access to […]',\n",
              "  'link': 'http://delhincrnews.in/2021/04/15/union-health-ministry-issues-regulatory-pathways-for-foreign-produced-covid-19-vaccines/',\n",
              "  'pub_date': time.struct_time(tm_year=2021, tm_mon=4, tm_mday=15, tm_hour=15, tm_min=54, tm_sec=29, tm_wday=3, tm_yday=105, tm_isdst=0),\n",
              "  'title': 'Union Health Ministry issues regulatory pathways for foreign produced COVID-19 vaccines'},\n",
              " {'description': 'Atal Innovation Mission (AIM), NITI Aayog today signed an agreement with Dassault Systemes Fondation to jointly work towards providing a digitally rich ecosystem of Innovation in India and promoting STEM based innovation and entrepreneurship among aspiring young minds across the country. One of the flagship programs of AIM, the Atal Tinkering Labs (ATLs) has played […]',\n",
              "  'link': 'http://delhincrnews.in/2021/04/14/atal-innovation-mission-dassault-systemes-fondation-to-partner-for-seeding-future-innovators-entrepreneurs/',\n",
              "  'pub_date': time.struct_time(tm_year=2021, tm_mon=4, tm_mday=14, tm_hour=15, tm_min=54, tm_sec=44, tm_wday=2, tm_yday=104, tm_isdst=0),\n",
              "  'title': 'Atal Innovation Mission & Dassault Systemes Fondation to partner for seeding future innovators & entrepreneurs'},\n",
              " {'description': 'The Competition Commission of India (CCI)\\xa0approves acquisition of 89.6% of equity shareholding of Gangavaram Port Limited (“GPL”) by Adani Ports and Special Economic Zones Limited (“APSEZ”) under Section 31(1) of the Competition Act, 2002, on 13th\\xa0April 2021. The proposed combination relates to the acquisition of 89.6% of the shareholding in GPL (i.e., the entity operating […]',\n",
              "  'link': 'http://delhincrnews.in/2021/04/13/cci-approves-acquisition-of-89-6-of-equity-shareholding-of-gangavaram-port-ltd-by-adani-ports-and-special-economic-zones-ltd/',\n",
              "  'pub_date': time.struct_time(tm_year=2021, tm_mon=4, tm_mday=13, tm_hour=15, tm_min=42, tm_sec=3, tm_wday=1, tm_yday=103, tm_isdst=0),\n",
              "  'title': 'CCI approves acquisition of 89.6% of equity shareholding of Gangavaram Port Ltd by Adani Ports and Special Economic Zones Ltd'},\n",
              " {'description': 'Today marks Day-2 of the countrywide Tika Utsav. The cumulative number of COVID19 vaccine doses administered in the country has crossed\\xa010.45 Cr\\xa0today. Cumulatively,\\xa010,45,28,565\\xa0vaccine doses have been administered through 15,56,361 sessions, as per the provisional report till 7 am today. These include\\xa090,13,289\\xa0HCWs who have taken the 1st dose and\\xa055,24,344\\xa0HCWs who have taken the 2nd dose,\\xa099,96,879\\xa0FLWs (1stdose),\\xa047,95,756\\xa0FLWs […]',\n",
              "  'link': 'http://delhincrnews.in/2021/04/12/near-30-lakh-doses-given-on-day-1-of-tika-utsav-pushes-cumulative-coverage-to-10-45-cr/',\n",
              "  'pub_date': time.struct_time(tm_year=2021, tm_mon=4, tm_mday=12, tm_hour=16, tm_min=25, tm_sec=30, tm_wday=0, tm_yday=102, tm_isdst=0),\n",
              "  'title': 'Near 30 lakh doses given on Day 1 of TIKA UTSAV pushes Cumulative Coverage to 10.45 cr'},\n",
              " {'description': 'Prime Minister Narendra Modi has called the ‘Tika Utsav’, vaccination festival, the beginning of second big war against Corona and has emphasized special focus on social hygiene along with personal hygiene. The Utsav started today on the birth anniversary of Mahatma Jyotiba Phule and will continue till the birth anniversary of Babasaheb Ambedkar on April […]',\n",
              "  'link': 'http://delhincrnews.in/2021/04/11/tika-utsav-is-beginning-of-second-major-war-against-corona-pm/',\n",
              "  'pub_date': time.struct_time(tm_year=2021, tm_mon=4, tm_mday=11, tm_hour=17, tm_min=40, tm_sec=35, tm_wday=6, tm_yday=101, tm_isdst=0),\n",
              "  'title': '‘Tika Utsav’ is beginning of second major war against Corona: PM'},\n",
              " {'description': 'The Minister of State for Jal Shakti, Rattan Lal Kataria, speaking at a webinar organized by BRICS International Forum, a civil organization, highlighted the role of BRICS Nation in resolving common problems like lack of access to safe drinking water. Shri Kataria cited example of Cape Town, South Africa, which became the first major city […]',\n",
              "  'link': 'http://delhincrnews.in/2021/04/10/mos-jal-shakti-addresses-brics-international-forum-webinar-highlights-water-crisis-of-the-world/',\n",
              "  'pub_date': time.struct_time(tm_year=2021, tm_mon=4, tm_mday=10, tm_hour=16, tm_min=35, tm_sec=26, tm_wday=5, tm_yday=100, tm_isdst=0),\n",
              "  'title': 'MoS Jal Shakti addresses BRICS International Forum webinar; highlights water crisis of the world'},\n",
              " {'description': 'The Insolvency and Bankruptcy Code (Amendment) Ordinance, 2021 promulgated on 4th\\xa0April, 2021 provides for pre-packaged insolvency resolution process (PPIRP) for corporate debtors classified as micro, small and medium enterprises. The Insolvency and Bankruptcy Board of India notified the Insolvency and Bankruptcy Board of India (Pre-packaged Insolvency Resolution Process) Regulations, 2021 (PPIRP Regulations) today to enable […]',\n",
              "  'link': 'http://delhincrnews.in/2021/04/09/insolvency-and-bankruptcy-board-of-india-notifies-insolvency-and-bankruptcy-board-of-india-pre-packaged-insolvency-resolution-process-regulations-2021/',\n",
              "  'pub_date': time.struct_time(tm_year=2021, tm_mon=4, tm_mday=9, tm_hour=15, tm_min=46, tm_sec=49, tm_wday=4, tm_yday=99, tm_isdst=0),\n",
              "  'title': 'Insolvency and Bankruptcy Board of India notifies Insolvency and Bankruptcy Board of India (Pre-packaged Insolvency Resolution Process) Regulations, 2021'},\n",
              " {'description': 'As the Jal Jeevan Mission – Har Ghar Jal announced on 15th\\xa0August, 2019, to provide Functional Household Tap Connection (FHTC) to every rural home by 2024, enters its third year of implementation with a Central grant of Rs.50,011 Crore in 2021-22, the National Jal Jeevan Mission, Ministry of Jal Shakti is set to roll out […]',\n",
              "  'link': 'http://delhincrnews.in/2021/04/08/jal-jeevan-mission-state-wise-planning-exercise-begins-for-2021-22/',\n",
              "  'pub_date': time.struct_time(tm_year=2021, tm_mon=4, tm_mday=8, tm_hour=16, tm_min=22, tm_sec=28, tm_wday=3, tm_yday=98, tm_isdst=0),\n",
              "  'title': 'Jal Jeevan Mission: State-Wise Planning Exercise Begins For 2021–22'},\n",
              " {'description': 'The Union Cabinet, chaired by the Prime Minister Narendra Modi, approved the Production Linked Incentive (PLI) Scheme for White Goods (Air Conditioners and LED Lights) with a budgetary outlay of Rs. 6,238 crore. The prime objective of the PLI scheme is to make manufacturing in India globally competitive by removing sectoral disabilities, creating economies of […]',\n",
              "  'link': 'http://delhincrnews.in/2021/04/07/cabinet-approves-production-linked-incentive-scheme-for-white-goods-acs-led-lights/',\n",
              "  'pub_date': time.struct_time(tm_year=2021, tm_mon=4, tm_mday=7, tm_hour=13, tm_min=49, tm_sec=53, tm_wday=2, tm_yday=97, tm_isdst=0),\n",
              "  'title': 'Cabinet approves Production Linked Incentive Scheme for White Goods (ACs & LED lights)'},\n",
              " {'description': 'Under the Pradhan Mantri Awaas Yojana – Gramin (PMAY-G), a flagship programme of the Government of India, 92% target of completion has been achieved in the 1st\\xa0phase of the scheme i.e. from 2016-17 to 2018-19. The government is confident that all the houses in the Permanent Wait List (PWL) would be completed by the end […]',\n",
              "  'link': 'http://delhincrnews.in/2021/04/06/92-target-achieved-in-the-1st-phase-of-pradhan-mantri-awaas-yojana-gramin/',\n",
              "  'pub_date': time.struct_time(tm_year=2021, tm_mon=4, tm_mday=6, tm_hour=16, tm_min=20, tm_sec=57, tm_wday=1, tm_yday=96, tm_isdst=0),\n",
              "  'title': '92% target achieved in the 1st phase of Pradhan Mantri Awaas Yojana – Gramin'},\n",
              " {'description': 'According to the National Weather Forecasting Centre of the India Meteorological Department (IMD): Air mass inflow forecast in Delhi along with predicted ventilation coefficient and weather forecast is as follows: The air quality over Delhi-NCR is likely to remain in\\xa0Moderate to Poor\\xa0category on 06.04.2021. The air quality is likely to improve to Moderate category on […]',\n",
              "  'link': 'http://delhincrnews.in/2021/04/06/air-quality-in-delhi-ncr-likely-to-remain-largely-in-moderate-category/',\n",
              "  'pub_date': time.struct_time(tm_year=2021, tm_mon=4, tm_mday=6, tm_hour=16, tm_min=17, tm_sec=42, tm_wday=1, tm_yday=96, tm_isdst=0),\n",
              "  'title': 'Air quality in Delhi-NCR likely to remain largely in Moderate category'},\n",
              " {'description': 'Defence Research and Development Organisation (DRDO) has developed an Advanced Chaff Technology to safeguard the naval ships against enemy missile attack. Defence Laboratory Jodhpur (DLJ), a DRDO laboratory, has indigenously developed three variants of this critical technology namely Short Range Chaff Rocket (SRCR), Medium Range Chaff Rocket (MRCR) and Long Range Chaff Rocket (LRCR) meeting […]',\n",
              "  'link': 'http://delhincrnews.in/2021/04/05/drdo-develops-advanced-chaff-technology-to-safeguard-naval-ships-from-missile-attack/',\n",
              "  'pub_date': time.struct_time(tm_year=2021, tm_mon=4, tm_mday=5, tm_hour=14, tm_min=25, tm_sec=11, tm_wday=0, tm_yday=95, tm_isdst=0),\n",
              "  'title': 'DRDO develops Advanced Chaff Technology to safeguard naval ships from missile attack'},\n",
              " {'description': 'The cumulative number of COVID19 vaccine doses administered in the country stands at 7,59,79,651 today (through\\xa011,99,125sessions) as per the provisional report till 7 am. These include\\xa089,82,974\\xa0Health Care Workers (1st dose),\\xa053,19,641\\xa0HCWs (2nd dose),\\xa096,86,477\\xa0Front Line Workers (1st\\xa0dose) and\\xa040,97,510\\xa0FLWs (2nd\\xa0Dose) and4,70,70,019\\xa0(1st\\xa0Dose) and\\xa08,23,030\\xa0(2nd dose) beneficiaries aged more than 45 years. The cumulative vaccination figure includes over 6.5 crore (6,57,39,470) […]',\n",
              "  'link': 'http://delhincrnews.in/2021/04/04/more-than-6-5-cr-get-the-first-vaccine-dose-whereas-more-than-1-cr-have-received-the-2nd-dose/',\n",
              "  'pub_date': time.struct_time(tm_year=2021, tm_mon=4, tm_mday=4, tm_hour=14, tm_min=54, tm_sec=37, tm_wday=6, tm_yday=94, tm_isdst=0),\n",
              "  'title': 'More than 6.5 cr get the first vaccine dose whereas more than 1 cr have received the 2nd dose'},\n",
              " {'description': 'Dr. Harsh Vardhan, Union Health & Family Welfare Minister approved the “National Policy for Rare Diseases 2021” on 30th\\xa0March 2021. The policy document has been uploaded on the website of Ministry of Health & Family Welfare.\\xa0 For quite some time different stake holders have been demanding for a comprehensive policy for prevention and management of […]',\n",
              "  'link': 'http://delhincrnews.in/2021/04/03/union-health-minister-approves-national-policy-for-rare-diseases-2021/',\n",
              "  'pub_date': time.struct_time(tm_year=2021, tm_mon=4, tm_mday=3, tm_hour=16, tm_min=41, tm_sec=15, tm_wday=5, tm_yday=93, tm_isdst=0),\n",
              "  'title': 'Union Health Minister approves National Policy for Rare Diseases, 2021'}]"
            ]
          },
          "metadata": {
            "tags": []
          },
          "execution_count": 30
        }
      ]
    },
    {
      "cell_type": "markdown",
      "metadata": {
        "id": "cgnBcsMhR5JC"
      },
      "source": [
        "# Nova seção"
      ]
    }
  ]
}